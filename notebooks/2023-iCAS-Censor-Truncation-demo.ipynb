{
 "cells": [
  {
   "attachments": {},
   "cell_type": "markdown",
   "metadata": {},
   "source": [
    "# Fitting Censored and Truncated Data with LRMoE"
   ]
  },
  {
   "attachments": {},
   "cell_type": "markdown",
   "metadata": {},
   "source": [
    "## Introduction\n",
    "\n",
    "In this notebook, we will demonstrate how to fit censored and truncated data with LRMoE. We start by simulating data from a two-component mixture, and then artificially impose data censoring and truncation. We then fit the data with LRMoE, and compare the results with the true parameters."
   ]
  },
  {
   "cell_type": "code",
   "execution_count": null,
   "metadata": {},
   "outputs": [],
   "source": [
    "using DrWatson\n",
    "@quickactivate \"LRMoEjl Demo\"\n",
    "\n",
    "using CategoricalArrays, DataFrames, Distributions\n",
    "using GLM, LRMoE, JLD2, PrettyTables, Random\n",
    "\n",
    "# some helper functions are hidden in a separate source file\n",
    "include(srcdir(\"2023-iCAS-Censor-Truncation-util.jl\"))\n",
    "using .cnesor_truncation_util_jl:\n",
    "    plot_simulated_T_delay,\n",
    "    plot_simulated_T_claim_T_delay,\n",
    "    plot_observed_losses"
   ]
  },
  {
   "attachments": {},
   "cell_type": "markdown",
   "metadata": {},
   "source": [
    "## Data Simulation\n",
    "\n",
    "Data censoring is common in insurance applications, e.g. the time of claims reporting delay. Let us consider a synthetic dataset that describes the distribution of reporting delay. We first simulate some covariates typically used in automobile insurance."
   ]
  },
  {
   "cell_type": "code",
   "execution_count": null,
   "metadata": {},
   "outputs": [],
   "source": [
    "Random.seed!(7777)\n",
    "sample_size = 10_000\n",
    "\n",
    "X = DataFrame(\n",
    "    intercept = fill(1.0, sample_size),\n",
    "    sex = rand(Binomial(1, 0.50), sample_size),\n",
    "    aged = rand(Uniform(20, 80), sample_size),\n",
    "    agec = rand(Uniform(0, 10), sample_size),\n",
    "    region = rand(Binomial(1, 0.50), sample_size)\n",
    ")\n",
    "\n",
    "pretty_table(first(X, 5), nosubheader=true)"
   ]
  },
  {
   "attachments": {},
   "cell_type": "markdown",
   "metadata": {},
   "source": [
    "We assume the claim reporting delay is generated from a two-component LRMoE model with the following parameters."
   ]
  },
  {
   "cell_type": "code",
   "execution_count": null,
   "metadata": {},
   "outputs": [],
   "source": [
    "# logit regression coefficients\n",
    "α = [-0.5 1.0 -0.05 0.1 1.25;\n",
    "     0.0 0.0   0.0 0.0  0.0]\n",
    "# expert functions\n",
    "comp_dist = [LogNormalExpert(4.0, 0.3) InverseGaussianExpert(20, 20)];"
   ]
  },
  {
   "attachments": {},
   "cell_type": "markdown",
   "metadata": {},
   "source": [
    "Now we are ready to simulate the actual claim reporting delay `T_delay` and visualize its distribution."
   ]
  },
  {
   "cell_type": "code",
   "execution_count": null,
   "metadata": {},
   "outputs": [],
   "source": [
    "T_delay = LRMoE.sim_dataset(α, X, comp_dist)\n",
    "T_delay = vec(T_delay);"
   ]
  },
  {
   "cell_type": "code",
   "execution_count": null,
   "metadata": {},
   "outputs": [],
   "source": [
    "plot_simulated_T_delay(T_delay)"
   ]
  },
  {
   "attachments": {},
   "cell_type": "markdown",
   "metadata": {},
   "source": [
    "## Data Censoring"
   ]
  },
  {
   "attachments": {},
   "cell_type": "markdown",
   "metadata": {},
   "source": [
    "Even though we could simulate data from a true model, reporting delay is right-censored in practice, that is, for certain observations, we only know they are greater than a certain threshold (e.g. claims are reported beyond valuation date), but we do not know their exact values.\n",
    "\n",
    "Let us assume accidents occur uniformly within a year, i.e. `T_accident` follows a uniform distribution from 0 to 365."
   ]
  },
  {
   "cell_type": "code",
   "execution_count": null,
   "metadata": {},
   "outputs": [],
   "source": [
    "T_accident = rand(Uniform(0, 365), sample_size);"
   ]
  },
  {
   "cell_type": "code",
   "execution_count": null,
   "metadata": {},
   "outputs": [],
   "source": [
    "plot_simulated_T_claim_T_delay(T_accident, T_delay)"
   ]
  },
  {
   "attachments": {},
   "cell_type": "markdown",
   "metadata": {},
   "source": [
    "Let us also assume policy reserving is done at the end of year. With claims and reporting delay times simulated as above, we know `T_accident + T_delay` will be censored at 365, which is roughly 8% of the data."
   ]
  },
  {
   "cell_type": "code",
   "execution_count": null,
   "metadata": {},
   "outputs": [],
   "source": [
    "println(\"Number of censored observations: $(sum((T_accident .+ T_delay) .> 365))\")"
   ]
  },
  {
   "attachments": {},
   "cell_type": "markdown",
   "metadata": {},
   "source": [
    "With data censoring, each observation of claim delay will be represented by a pair of values `(y_l, y_u)` to represent the reporting delay, which denote the lower and upper bounds of possible values.\n",
    "* For exact values (i.e. no censoring), `y_l = y_u = T_delay`.\n",
    "* For censoring, `y_l = 365 - T_claim`, and `y_u = Inf`."
   ]
  },
  {
   "cell_type": "code",
   "execution_count": null,
   "metadata": {},
   "outputs": [],
   "source": [
    "# construct data frame for censoring\n",
    "y_l = copy(T_delay)\n",
    "y_u = copy(T_delay)\n",
    "censor_idx = (T_accident .+ T_delay) .> 365\n",
    "y_l[censor_idx] .= 365 .- T_accident[censor_idx]\n",
    "y_u[censor_idx] .= Inf\n",
    "\n",
    "# view constructed data\n",
    "df_view = DataFrame(\n",
    "    T_accident = T_accident,\n",
    "    T_delay = T_delay,\n",
    "    censored = censor_idx,\n",
    "    y_l = y_l,\n",
    "    y_u = y_u\n",
    ")\n",
    "pretty_table(df_view[[5, 10, 2500, 9998],:], nosubheader=true)"
   ]
  },
  {
   "attachments": {},
   "cell_type": "markdown",
   "metadata": {},
   "source": [
    "The LRMoE package also requires two additional bounds `(t_l, t_u)` to indicate potential data truncation (see Data Truncation below). In this example of reporting delay, there is no truncation, so we set `t_l = 0` and `t_u = Inf`. "
   ]
  },
  {
   "cell_type": "code",
   "execution_count": null,
   "metadata": {},
   "outputs": [],
   "source": [
    "t_l = fill(0.0, sample_size)\n",
    "t_u = fill(Inf, sample_size)\n",
    "\n",
    "# construct the complete dataframe\n",
    "Y = DataFrame(t_l=t_l, y_l=y_l, y_u=y_u, t_u=t_u)\n",
    "pretty_table(Y[[5, 10, 2500, 9998],:], nosubheader=true)"
   ]
  },
  {
   "attachments": {},
   "cell_type": "markdown",
   "metadata": {},
   "source": [
    "## Fitting LRMoE with Censored Data"
   ]
  },
  {
   "attachments": {},
   "cell_type": "markdown",
   "metadata": {},
   "source": [
    "We will now fit the censored data with LRMoE, from a starting point reasonably close to the true parameters. The goal is to verify that LRMoE package can recover the true parameters in the presence of data censoring."
   ]
  },
  {
   "cell_type": "code",
   "execution_count": null,
   "metadata": {},
   "outputs": [],
   "source": [
    "α_init = fill(0.0, 2, 5)\n",
    "experts_init = [LogNormalExpert(3.5, 1.0) InverseGaussianExpert(25.0, 25.0)];"
   ]
  },
  {
   "cell_type": "code",
   "execution_count": null,
   "metadata": {},
   "outputs": [],
   "source": [
    "LRMoE_model = fit_LRMoE(Matrix(Y), X, α_init, experts_init;\n",
    "    exact_Y=false, ϵ=0.01, ecm_iter_max=1000, print_steps=10)"
   ]
  },
  {
   "attachments": {},
   "cell_type": "markdown",
   "metadata": {},
   "source": [
    "We see from below the true parameters are recovered reasonably well. The fitted LRMoE model for reporting delay can then be integrated into a general framework for claims reserving."
   ]
  },
  {
   "cell_type": "code",
   "execution_count": null,
   "metadata": {},
   "outputs": [],
   "source": [
    "summary(LRMoE_model)"
   ]
  },
  {
   "cell_type": "code",
   "execution_count": null,
   "metadata": {},
   "outputs": [],
   "source": [
    "α"
   ]
  },
  {
   "cell_type": "code",
   "execution_count": null,
   "metadata": {},
   "outputs": [],
   "source": [
    "comp_dist"
   ]
  },
  {
   "attachments": {},
   "cell_type": "markdown",
   "metadata": {},
   "source": [
    "## Data Truncation"
   ]
  },
  {
   "attachments": {},
   "cell_type": "markdown",
   "metadata": {},
   "source": [
    "Data truncation is also common in insurance applications, e.g. due to policy deductibles.\n",
    "Let us simulate from the same LRMoE model, but assume the dataset now represents the distribution of incurred losses."
   ]
  },
  {
   "cell_type": "code",
   "execution_count": null,
   "metadata": {},
   "outputs": [],
   "source": [
    "actual_loss = LRMoE.sim_dataset(α, X, comp_dist);"
   ]
  },
  {
   "attachments": {},
   "cell_type": "markdown",
   "metadata": {},
   "source": [
    "Assuming there is a policy deductible of 10, all losses below the deductible will not be observed by the insurer.\n",
    "This is represented by setting `t_l = 10` and `t_u = Inf`, whereby the lower bound represents the level of left-truncation, i.e. policy deductible."
   ]
  },
  {
   "cell_type": "code",
   "execution_count": null,
   "metadata": {},
   "outputs": [],
   "source": [
    "truncation_idx = actual_loss .< 10\n",
    "println(\"Number of truncated observations: $(sum(truncation_idx))\")"
   ]
  },
  {
   "attachments": {},
   "cell_type": "markdown",
   "metadata": {},
   "source": [
    "The input data for fitting LRMoE can now be constructed, with `y_l = y_u = actual_loss` (since observed losses are exact), `t_l = 10`, and `t_u = Inf`. Afterwards, we can call the fitting function similarly as before."
   ]
  },
  {
   "cell_type": "code",
   "execution_count": null,
   "metadata": {},
   "outputs": [],
   "source": [
    "t_l = fill(10.0, sample_size .- sum(truncation_idx))\n",
    "y_l = actual_loss[.!truncation_idx]\n",
    "y_u = actual_loss[.!truncation_idx]\n",
    "t_u = fill(Inf, sample_size .- sum(truncation_idx))\n",
    "\n",
    "# construct the complete dataframe\n",
    "X_truncated = X[.!vec(truncation_idx), :]\n",
    "Y_truncated = DataFrame(t_l=t_l, y_l=y_l, y_u=y_u, t_u=t_u)\n",
    "pretty_table(Y_truncated[1:5,:], nosubheader=true)"
   ]
  },
  {
   "attachments": {},
   "cell_type": "markdown",
   "metadata": {},
   "source": [
    "Note that losses below the deductible are dropped from the dataset, which can be observed from the following histogram."
   ]
  },
  {
   "cell_type": "code",
   "execution_count": null,
   "metadata": {},
   "outputs": [],
   "source": [
    "plot_observed_losses(y_l)"
   ]
  },
  {
   "cell_type": "code",
   "execution_count": null,
   "metadata": {},
   "outputs": [],
   "source": [
    "LRMoE_model_truncated = fit_LRMoE(Y_truncated, X_truncated, α_init, experts_init;\n",
    "    exact_Y=false, ϵ=0.01, ecm_iter_max=1000, print_steps=10)"
   ]
  },
  {
   "cell_type": "code",
   "execution_count": null,
   "metadata": {},
   "outputs": [],
   "source": [
    "summary(LRMoE_model_truncated)"
   ]
  },
  {
   "attachments": {},
   "cell_type": "markdown",
   "metadata": {},
   "source": [
    "In general, the LRMoE package can handle various combinations of data censoring and truncation. For more details, please refer to the [documentation](https://actsci.utstat.utoronto.ca/LRMoE.jl/stable/)."
   ]
  }
 ],
 "metadata": {
  "kernelspec": {
   "display_name": "Julia 1.8.5",
   "language": "julia",
   "name": "julia-1.8"
  },
  "language_info": {
   "file_extension": ".jl",
   "mimetype": "application/julia",
   "name": "julia",
   "version": "1.8.5"
  },
  "orig_nbformat": 4,
  "vscode": {
   "interpreter": {
    "hash": "638df856d51ab4b91012ff0163698833b8e369dd3c3948a6a932f51d32ef03d0"
   }
  }
 },
 "nbformat": 4,
 "nbformat_minor": 2
}
