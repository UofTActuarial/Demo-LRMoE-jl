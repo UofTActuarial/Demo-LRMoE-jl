{
 "cells": [
  {
   "attachments": {},
   "cell_type": "markdown",
   "metadata": {},
   "source": [
    "# Fitting Data with LRMoE"
   ]
  },
  {
   "attachments": {},
   "cell_type": "markdown",
   "metadata": {},
   "source": [
    "## Introduction\n",
    "\n",
    "In this notebook, we will demonstrate how to fit data with LRMoE. We start by simulating data from a two-component mixture, and then artificially impose data truncation. We then fit the data with LRMoE and assess the model fit."
   ]
  },
  {
   "cell_type": "code",
   "execution_count": null,
   "metadata": {},
   "outputs": [],
   "source": [
    "using DrWatson\n",
    "@quickactivate \"LRMoEjl Demo\"\n",
    "\n",
    "using CategoricalArrays, DataFrames, Distributions\n",
    "using GLM, LRMoE, JLD2, PrettyTables, Random\n",
    "\n",
    "# some helper functions are hidden in a separate source file\n",
    "include(srcdir(\"2023-iCAS-new-util.jl\"))\n",
    "using .continuous_util_jl:\n",
    "    plot_simulated_obs,\n",
    "    plot_LRMoE_fit,\n",
    "    plot_simulated_T_delay,\n",
    "    plot_simulated_T_claim_T_delay,\n",
    "    plot_observed_losses"
   ]
  },
  {
   "attachments": {},
   "cell_type": "markdown",
   "metadata": {},
   "source": [
    "## Data Simulation\n",
    "\n",
    "Let us consider a synthetic dataset with continuous observations, e.g. loss severity, time of claims reporting delay, etc.  We first simulate some covariates typically considered in auto insurance."
   ]
  },
  {
   "cell_type": "code",
   "execution_count": null,
   "metadata": {},
   "outputs": [],
   "source": [
    "Random.seed!(7777)\n",
    "sample_size = 10_000\n",
    "\n",
    "X = DataFrame(\n",
    "    intercept = fill(1.0, sample_size),\n",
    "    sex = rand(Binomial(1, 0.50), sample_size),\n",
    "    aged = rand(Uniform(20, 80), sample_size),\n",
    "    agec = rand(Uniform(0, 10), sample_size),\n",
    "    region = rand(Binomial(1, 0.50), sample_size)\n",
    ")\n",
    "\n",
    "pretty_table(first(X, 5), nosubheader=true)"
   ]
  },
  {
   "attachments": {},
   "cell_type": "markdown",
   "metadata": {},
   "source": [
    "We assume the observations are generated from a two-component LRMoE model with the following parameters."
   ]
  },
  {
   "cell_type": "code",
   "execution_count": null,
   "metadata": {},
   "outputs": [],
   "source": [
    "# logit regression coefficients\n",
    "α = [-0.5 1.0 -0.05 0.1 1.25;\n",
    "     0.0 0.0   0.0 0.0  0.0]\n",
    "# expert functions\n",
    "comp_dist = [LogNormalExpert(4.0, 0.3) InverseGaussianExpert(20, 20)];"
   ]
  },
  {
   "attachments": {},
   "cell_type": "markdown",
   "metadata": {},
   "source": [
    "Now we are ready to simulate the observations and visualize the distribution."
   ]
  },
  {
   "cell_type": "code",
   "execution_count": null,
   "metadata": {},
   "outputs": [],
   "source": [
    "exact_obs = LRMoE.sim_dataset(α, X, comp_dist)\n",
    "exact_obs = vec(exact_obs);"
   ]
  },
  {
   "cell_type": "code",
   "execution_count": null,
   "metadata": {},
   "outputs": [],
   "source": [
    "plot_simulated_obs(exact_obs)"
   ]
  },
  {
   "attachments": {},
   "cell_type": "markdown",
   "metadata": {},
   "source": [
    "## Fitting LRMoE to Exact Data\n",
    "\n",
    "While the data are simulated from a mixture of Lognormal and Inverse Gaussian, we consider fitting a 2-component LRMoE mixture of Gamma distributions.  The goal is to assess the model fit when a 'wrong' distribution is used, which is almost always the case as we can never know the true distribution in reality.\n",
    "\n",
    "To prepare for model fitting, the first step is to convert the original dataframe into matrix form (support for the `@formula` interface is a feature under development)."
   ]
  },
  {
   "cell_type": "code",
   "execution_count": null,
   "metadata": {},
   "outputs": [],
   "source": [
    "# convert observations to a matrix Y, which is needed for LRMoE\n",
    "Y_mat = reshape(exact_obs, length(exact_obs), 1)\n",
    "X_mat = Matrix(X);"
   ]
  },
  {
   "attachments": {},
   "cell_type": "markdown",
   "metadata": {},
   "source": [
    "The `LRMoE.jl` package provides a function for initializing a model, which provides initial values `α_init` for the logit regression parameters and `params_init` for all possible expert functions. We can pick out the Gamma initializations."
   ]
  },
  {
   "cell_type": "code",
   "execution_count": null,
   "metadata": {},
   "outputs": [],
   "source": [
    "# Random.seed!(20230315)\n",
    "Random.seed!(7777)\n",
    "n_comp = 2\n",
    "model_init = cmm_init(Y_mat, X_mat, n_comp, [\"continuous\"]; exact_Y = true, n_random = 0)\n",
    "\n",
    "model_init.params_init\n",
    "\n",
    "# pickout desired parameter initializations\n",
    "α_init = model_init.α_init\n",
    "experts_init = vcat([hcat([model_init.params_init[1][j][2] for j in 1:n_comp]...) for d in 1:1]...)\n",
    "# view\n",
    "println(\"α_init: $(α_init)\")\n",
    "println(\"experts_init: $(experts_init[1, :])\")\n",
    "\n",
    "# dump(model_init, maxdepth = 0)"
   ]
  },
  {
   "attachments": {},
   "cell_type": "markdown",
   "metadata": {},
   "source": [
    "There are several settings to control the fitting function. For example, `ϵ` controls when to stop the EM algorithm based on the increment in loglikelihood, while `ecm_iter_max` provides a hard stop after a certain number of iterations. More details can be found in the package [documentation](https://actsci.utstat.utoronto.ca/LRMoE.jl/stable/fit/)."
   ]
  },
  {
   "cell_type": "code",
   "execution_count": null,
   "metadata": {},
   "outputs": [],
   "source": [
    "LRMoE_model = fit_LRMoE(Y_mat, X_mat, α_init, experts_init;\n",
    "    exact_Y=true, ϵ=0.01, ecm_iter_max=1000, print_steps=10)"
   ]
  },
  {
   "cell_type": "code",
   "execution_count": null,
   "metadata": {},
   "outputs": [],
   "source": [
    "summary(LRMoE_model)"
   ]
  },
  {
   "attachments": {},
   "cell_type": "markdown",
   "metadata": {},
   "source": [
    "And we visualize the model fit.  We see that the LRMoE model can fit the data reasonably well even when it is not using the true experts."
   ]
  },
  {
   "cell_type": "code",
   "execution_count": null,
   "metadata": {},
   "outputs": [],
   "source": [
    "plot_LRMoE_fit(exact_obs, X_mat, LRMoE_model)"
   ]
  },
  {
   "attachments": {},
   "cell_type": "markdown",
   "metadata": {},
   "source": [
    "## Right-Truncated Reporting Delay"
   ]
  },
  {
   "attachments": {},
   "cell_type": "markdown",
   "metadata": {},
   "source": [
    "Claims reporting delays are essentially right-truncated data.  For all the observed claims, we know their reporting delays are less than a certain threshold - reporting delay must be less than the period between accident date and valuation date, otherwise the claim is unreported (incurred but not reported, IBNR).\n",
    "\n",
    "Let us assume accidents occur uniformly within a year, i.e. `T_accident` follows a uniform distribution from 0 to 365."
   ]
  },
  {
   "cell_type": "code",
   "execution_count": null,
   "metadata": {},
   "outputs": [],
   "source": [
    "Random.seed!(7777)\n",
    "T_accident = rand(Uniform(0, 365), sample_size)\n",
    "T_delay = exact_obs;"
   ]
  },
  {
   "cell_type": "code",
   "execution_count": null,
   "metadata": {},
   "outputs": [],
   "source": [
    "plot_idx  = vcat([findall(T_accident + T_delay .> 365)[1], findall(T_accident + T_delay .<= 365)[2],\n",
    "                  findall(T_accident + T_delay .> 365)[3], findall(T_accident + T_delay .<= 365)[4],]...)\n",
    "\n",
    "plot_simulated_T_claim_T_delay(T_accident, T_delay)"
   ]
  },
  {
   "attachments": {},
   "cell_type": "markdown",
   "metadata": {},
   "source": [
    "Let us also assume claims reserving is done at the end of year. With accident and reporting delay times simulated as above, we know `T_accident + T_delay` will be right-truncated at 365, which is roughly 8% of the data."
   ]
  },
  {
   "cell_type": "code",
   "execution_count": null,
   "metadata": {},
   "outputs": [],
   "source": [
    "println(\"Number of censored observations: $(sum((T_accident .+ T_delay) .> 365))\")"
   ]
  },
  {
   "attachments": {},
   "cell_type": "markdown",
   "metadata": {},
   "source": [
    "Unlike the case of exact observations above, we require a special format for censored and/or truncated data.\n",
    "\n",
    "Each observation of reporting delay will be accompanied by a right-truncation level `t_u = 365 - T_accident`.  Claims with reporting delay `T_delay` above this threshold will not be observed in reality.  The LRMoE model can also account for possible left-truncation with level `t_u` (see below), but in this example it will be set to zero."
   ]
  },
  {
   "cell_type": "code",
   "execution_count": null,
   "metadata": {},
   "outputs": [],
   "source": [
    "# construct data frame for truncated observations\n",
    "t_l = fill(0.0, sample_size)\n",
    "t_u = 365 .- T_accident\n",
    "truncation_idx = (T_accident .+ T_delay) .> 365\n",
    "\n",
    "# view constructed data\n",
    "df_view = DataFrame(\n",
    "    T_accident = T_accident,\n",
    "    T_delay = T_delay,\n",
    "    T_report = T_accident .+ T_delay,\n",
    "    truncation = truncation_idx,\n",
    "    t_l = t_l,\n",
    "    t_u = t_u\n",
    ")\n",
    "\n",
    "pretty_table(df_view[plot_idx,:], nosubheader=true)"
   ]
  },
  {
   "attachments": {},
   "cell_type": "markdown",
   "metadata": {},
   "source": [
    "The LRMoE package also requires two additional bounds `(y_l, y_u)` to indicate potential data censoring. In this example of reporting delays, there is no censoring, so we set `y_l = y_u = T_delay` for all incurred and reported claims. All incurred but not reported claims will be dropped from the simulated dataset (as they are not reported they are not observed!)."
   ]
  },
  {
   "cell_type": "code",
   "execution_count": null,
   "metadata": {},
   "outputs": [],
   "source": [
    "y_l = T_delay\n",
    "y_u = T_delay\n",
    "\n",
    "# construct the complete dataframe\n",
    "Y = DataFrame(t_l=t_l, y_l=y_l, y_u=y_u, t_u=t_u)\n",
    "# drop truncated observations\n",
    "Y_truncated = Y[.!truncation_idx, :]\n",
    "X_truncated = X[.!truncation_idx, :]\n",
    "pretty_table(first(Y, 5), nosubheader=true)"
   ]
  },
  {
   "attachments": {},
   "cell_type": "markdown",
   "metadata": {},
   "source": [
    "## Fitting LRMoE with Right-Truncated Data"
   ]
  },
  {
   "attachments": {},
   "cell_type": "markdown",
   "metadata": {},
   "source": [
    "We are now ready to fit the LRMoE to the truncated data, similar to the procedure above."
   ]
  },
  {
   "cell_type": "code",
   "execution_count": null,
   "metadata": {},
   "outputs": [],
   "source": [
    "# Random.seed!(20230315)\n",
    "Random.seed!(42)\n",
    "n_comp = 2\n",
    "model_init = cmm_init(Matrix(Y_truncated), Matrix(X_truncated), n_comp, [\"continuous\"]; exact_Y = false, n_random = 0)\n",
    "\n",
    "model_init.params_init\n",
    "\n",
    "# pickout desired parameter initializations\n",
    "α_init = model_init.α_init\n",
    "experts_init = vcat([hcat([model_init.params_init[1][j][2] for j in 1:n_comp]...) for d in 1:1]...)\n",
    "# view\n",
    "println(\"α_init: $(α_init)\")\n",
    "println(\"experts_init: $(experts_init[1, :])\")"
   ]
  },
  {
   "cell_type": "code",
   "execution_count": null,
   "metadata": {},
   "outputs": [],
   "source": [
    "LRMoE_model_truncated = fit_LRMoE(Matrix(Y_truncated), Matrix(X_truncated), α_init, experts_init;\n",
    "    exact_Y=false, ϵ=0.01, ecm_iter_max=1000, print_steps=10)"
   ]
  },
  {
   "cell_type": "code",
   "execution_count": null,
   "metadata": {},
   "outputs": [],
   "source": [
    "summary(LRMoE_model_truncated)"
   ]
  },
  {
   "attachments": {},
   "cell_type": "markdown",
   "metadata": {},
   "source": [
    "## Additional Example: Left Truncation"
   ]
  },
  {
   "attachments": {},
   "cell_type": "markdown",
   "metadata": {},
   "source": [
    "Left-truncation is also common in insurance applications, e.g. due to policy deductibles.\n",
    "Let us simulate from the same LRMoE model, but assume the dataset now represents the distribution of incurred losses."
   ]
  },
  {
   "cell_type": "code",
   "execution_count": null,
   "metadata": {},
   "outputs": [],
   "source": [
    "actual_loss = LRMoE.sim_dataset(α, X, comp_dist);"
   ]
  },
  {
   "attachments": {},
   "cell_type": "markdown",
   "metadata": {},
   "source": [
    "Assuming there is a policy deductible of 10, all losses below the deductible will not be observed by the insurer.\n",
    "This is represented by setting `t_l = 10` and `t_u = Inf`, whereby the lower bound represents the level of left-truncation, i.e. policy deductible."
   ]
  },
  {
   "cell_type": "code",
   "execution_count": null,
   "metadata": {},
   "outputs": [],
   "source": [
    "left_truncation_idx = actual_loss .< 10\n",
    "println(\"Number of truncated observations: $(sum(left_truncation_idx))\")"
   ]
  },
  {
   "attachments": {},
   "cell_type": "markdown",
   "metadata": {},
   "source": [
    "The input data for fitting LRMoE can now be constructed, with `y_l = y_u = actual_loss` (since observed losses are exact), `t_l = 10`, and `t_u = Inf`. Afterwards, we can call the fitting function similarly as before."
   ]
  },
  {
   "cell_type": "code",
   "execution_count": null,
   "metadata": {},
   "outputs": [],
   "source": [
    "t_l = fill(10.0, sample_size .- sum(left_truncation_idx))\n",
    "y_l = actual_loss[.!left_truncation_idx]\n",
    "y_u = actual_loss[.!left_truncation_idx]\n",
    "t_u = fill(Inf, sample_size .- sum(left_truncation_idx))\n",
    "\n",
    "# construct the complete dataframe\n",
    "X_truncated2 = X[.!vec(left_truncation_idx), :]\n",
    "Y_truncated2 = DataFrame(t_l=t_l, y_l=y_l, y_u=y_u, t_u=t_u)\n",
    "pretty_table(Y_truncated2[1:5,:], nosubheader=true)"
   ]
  },
  {
   "attachments": {},
   "cell_type": "markdown",
   "metadata": {},
   "source": [
    "Note that losses below the deductible are dropped from the dataset, which can be observed from the following histogram."
   ]
  },
  {
   "cell_type": "code",
   "execution_count": null,
   "metadata": {},
   "outputs": [],
   "source": [
    "plot_observed_losses(Y_truncated2[:, 2])"
   ]
  },
  {
   "attachments": {},
   "cell_type": "markdown",
   "metadata": {},
   "source": [
    "We will now fit the left-truncated data with LRMoE, from a starting point reasonably close to the true parameters. The goal is solely to verify that LRMoE package can recover the true parameters in the presence of data truncation."
   ]
  },
  {
   "cell_type": "code",
   "execution_count": null,
   "metadata": {},
   "outputs": [],
   "source": [
    "α_init = fill(0.0, 2, 5)\n",
    "experts_init = [LogNormalExpert(3.5, 1.0) InverseGaussianExpert(25.0, 25.0)];\n",
    "\n",
    "LRMoE_model_truncated2 = fit_LRMoE(Matrix(Y_truncated2), Matrix(X_truncated2), α_init, experts_init;\n",
    "    exact_Y=false, ϵ=0.01, ecm_iter_max=1000, print_steps=10)"
   ]
  },
  {
   "cell_type": "code",
   "execution_count": null,
   "metadata": {},
   "outputs": [],
   "source": [
    "plot_LRMoE_fit(Y_truncated2[:, 2], Matrix(X_truncated2), LRMoE_model_truncated2)"
   ]
  },
  {
   "cell_type": "code",
   "execution_count": null,
   "metadata": {},
   "outputs": [],
   "source": [
    "summary(LRMoE_model_truncated2)"
   ]
  },
  {
   "attachments": {},
   "cell_type": "markdown",
   "metadata": {},
   "source": [
    "In general, the LRMoE package can handle various combinations of data censoring and truncation, e.g. right-censored data due to policy limits. For more details, please refer to the [documentation](https://actsci.utstat.utoronto.ca/LRMoE.jl/stable/)."
   ]
  }
 ],
 "metadata": {
  "kernelspec": {
   "display_name": "Julia 1.8.5",
   "language": "julia",
   "name": "julia-1.8"
  },
  "language_info": {
   "file_extension": ".jl",
   "mimetype": "application/julia",
   "name": "julia",
   "version": "1.8.5"
  },
  "orig_nbformat": 4,
  "vscode": {
   "interpreter": {
    "hash": "638df856d51ab4b91012ff0163698833b8e369dd3c3948a6a932f51d32ef03d0"
   }
  }
 },
 "nbformat": 4,
 "nbformat_minor": 2
}
